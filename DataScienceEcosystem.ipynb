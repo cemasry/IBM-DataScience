{
 "cells": [
  {
   "cell_type": "markdown",
   "id": "a189bf3b-39cf-4efc-9f0e-a78047bb4961",
   "metadata": {},
   "source": [
    "# Data science tools and ecosystem"
   ]
  },
  {
   "cell_type": "markdown",
   "id": "e1729705-a9ae-4215-916f-77f5ddce2aef",
   "metadata": {},
   "source": [
    "In this notebook, Data Science Tools and Ecosystem are summarized."
   ]
  },
  {
   "cell_type": "markdown",
   "id": "6d121921-0dbd-442c-9d4b-bc0a5847e99a",
   "metadata": {},
   "source": [
    "**Objectives:**\n",
    "- List popular languages of Data Science\n",
    "- List some libraries used in Data Science \n",
    "- List some Data Science tools"
   ]
  },
  {
   "cell_type": "markdown",
   "id": "f1a04a18-9917-4d68-a8d9-f4475ae651b1",
   "metadata": {},
   "source": [
    "Some of the popular languages that Data Scientists use are:"
   ]
  },
  {
   "cell_type": "markdown",
   "id": "77c42e7a-029e-4a43-b922-1c4d7c2ab810",
   "metadata": {},
   "source": [
    "1. Python\n",
    "2. R\n",
    "3. SQL\n",
    "4. Scale\n",
    "5. Java\n",
    "6. Julia\n",
    "7. php\n",
    "8. Rubi\n",
    "9. visual basic \n",
    "10. C++"
   ]
  },
  {
   "cell_type": "markdown",
   "id": "c79a12f4-bcbf-46e5-ace6-9a87934d9b0b",
   "metadata": {},
   "source": [
    "Some of the commonly used libraries used by Data Scientists include:"
   ]
  },
  {
   "cell_type": "markdown",
   "id": "9a07b5b6-569c-4b91-a638-ccc133e0ab28",
   "metadata": {},
   "source": [
    "1. Pandas\n",
    "2. Numpy\n",
    "3. SciPy\n",
    "4. Matplotlib\n",
    "5. Pytorch\n",
    "6. Keras\n",
    "7. Scikit learn"
   ]
  },
  {
   "cell_type": "markdown",
   "id": "55027b87-9ea3-4be3-a740-34beb85ea03d",
   "metadata": {
    "tags": []
   },
   "source": [
    "Data Science Tools |\n",
    "----\n",
    "Jupyter Notebook |\n",
    "R Studio |\n",
    "Watson studio |"
   ]
  },
  {
   "cell_type": "markdown",
   "id": "e728f62b-675c-4cdd-b6a7-896200afafb1",
   "metadata": {},
   "source": [
    "### Below are a few examples of evaluating arithmetic expressions in Python"
   ]
  },
  {
   "cell_type": "markdown",
   "id": "cff60219-3281-42a3-9289-ba9a08586643",
   "metadata": {},
   "source": [
    "This a simple arithmetic expression to mutiply then add integers"
   ]
  },
  {
   "cell_type": "code",
   "execution_count": 11,
   "id": "61a370e3-f044-40b9-b481-e882d30085ed",
   "metadata": {},
   "outputs": [
    {
     "data": {
      "text/plain": [
       "17"
      ]
     },
     "execution_count": 11,
     "metadata": {},
     "output_type": "execute_result"
    }
   ],
   "source": [
    "(3*4)+5"
   ]
  },
  {
   "cell_type": "markdown",
   "id": "2e7e4042-bb65-42d5-9c29-bda4a9dbacc3",
   "metadata": {},
   "source": [
    "This will convert 200 minutes to hours by diving by 60"
   ]
  },
  {
   "cell_type": "code",
   "execution_count": 12,
   "id": "299b9cb0-b4f9-4850-b845-d86ad790ec5a",
   "metadata": {},
   "outputs": [
    {
     "data": {
      "text/plain": [
       "3.3333333333333335"
      ]
     },
     "execution_count": 12,
     "metadata": {},
     "output_type": "execute_result"
    }
   ],
   "source": [
    "200/60"
   ]
  },
  {
   "cell_type": "markdown",
   "id": "93eeec6a-52dd-4c97-8872-d510a1a0917f",
   "metadata": {},
   "source": [
    "## Author \n",
    "Charbel MASRI"
   ]
  },
  {
   "cell_type": "code",
   "execution_count": null,
   "id": "90ad54da-fe76-4fd4-b020-1daccc4eaf83",
   "metadata": {},
   "outputs": [],
   "source": []
  }
 ],
 "metadata": {
  "kernelspec": {
   "display_name": "Python",
   "language": "python",
   "name": "conda-env-python-py"
  },
  "language_info": {
   "codemirror_mode": {
    "name": "ipython",
    "version": 3
   },
   "file_extension": ".py",
   "mimetype": "text/x-python",
   "name": "python",
   "nbconvert_exporter": "python",
   "pygments_lexer": "ipython3",
   "version": "3.7.12"
  }
 },
 "nbformat": 4,
 "nbformat_minor": 5
}
